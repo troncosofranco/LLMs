{
  "nbformat": 4,
  "nbformat_minor": 0,
  "metadata": {
    "colab": {
      "provenance": [],
      "authorship_tag": "ABX9TyPAQ0Na+2xgy5YnC+w8B3bz",
      "include_colab_link": true
    },
    "kernelspec": {
      "name": "python3",
      "display_name": "Python 3"
    },
    "language_info": {
      "name": "python"
    }
  },
  "cells": [
    {
      "cell_type": "markdown",
      "metadata": {
        "id": "view-in-github",
        "colab_type": "text"
      },
      "source": [
        "<a href=\"https://colab.research.google.com/github/troncosofranco/LLMs/blob/main/Chat_Completion.ipynb\" target=\"_parent\"><img src=\"https://colab.research.google.com/assets/colab-badge.svg\" alt=\"Open In Colab\"/></a>"
      ]
    },
    {
      "cell_type": "code",
      "execution_count": null,
      "metadata": {
        "colab": {
          "base_uri": "https://localhost:8080/"
        },
        "id": "hWJ1JSXlv3yb",
        "outputId": "6db8f565-c459-4b1d-88fb-b1cc9d4cbe7e"
      },
      "outputs": [
        {
          "output_type": "stream",
          "name": "stdout",
          "text": [
            "Requirement already satisfied: openAi in /usr/local/lib/python3.10/dist-packages (0.28.0)\n",
            "Requirement already satisfied: requests>=2.20 in /usr/local/lib/python3.10/dist-packages (from openAi) (2.32.3)\n",
            "Requirement already satisfied: tqdm in /usr/local/lib/python3.10/dist-packages (from openAi) (4.66.6)\n",
            "Requirement already satisfied: aiohttp in /usr/local/lib/python3.10/dist-packages (from openAi) (3.10.10)\n",
            "Requirement already satisfied: charset-normalizer<4,>=2 in /usr/local/lib/python3.10/dist-packages (from requests>=2.20->openAi) (3.4.0)\n",
            "Requirement already satisfied: idna<4,>=2.5 in /usr/local/lib/python3.10/dist-packages (from requests>=2.20->openAi) (3.10)\n",
            "Requirement already satisfied: urllib3<3,>=1.21.1 in /usr/local/lib/python3.10/dist-packages (from requests>=2.20->openAi) (2.2.3)\n",
            "Requirement already satisfied: certifi>=2017.4.17 in /usr/local/lib/python3.10/dist-packages (from requests>=2.20->openAi) (2024.8.30)\n",
            "Requirement already satisfied: aiohappyeyeballs>=2.3.0 in /usr/local/lib/python3.10/dist-packages (from aiohttp->openAi) (2.4.3)\n",
            "Requirement already satisfied: aiosignal>=1.1.2 in /usr/local/lib/python3.10/dist-packages (from aiohttp->openAi) (1.3.1)\n",
            "Requirement already satisfied: attrs>=17.3.0 in /usr/local/lib/python3.10/dist-packages (from aiohttp->openAi) (24.2.0)\n",
            "Requirement already satisfied: frozenlist>=1.1.1 in /usr/local/lib/python3.10/dist-packages (from aiohttp->openAi) (1.5.0)\n",
            "Requirement already satisfied: multidict<7.0,>=4.5 in /usr/local/lib/python3.10/dist-packages (from aiohttp->openAi) (6.1.0)\n",
            "Requirement already satisfied: yarl<2.0,>=1.12.0 in /usr/local/lib/python3.10/dist-packages (from aiohttp->openAi) (1.17.0)\n",
            "Requirement already satisfied: async-timeout<5.0,>=4.0 in /usr/local/lib/python3.10/dist-packages (from aiohttp->openAi) (4.0.3)\n",
            "Requirement already satisfied: typing-extensions>=4.1.0 in /usr/local/lib/python3.10/dist-packages (from multidict<7.0,>=4.5->aiohttp->openAi) (4.12.2)\n",
            "Requirement already satisfied: propcache>=0.2.0 in /usr/local/lib/python3.10/dist-packages (from yarl<2.0,>=1.12.0->aiohttp->openAi) (0.2.0)\n"
          ]
        }
      ],
      "source": [
        "!pip install openAi\n",
        "#!pip install openai==0.28\n",
        "import openai"
      ]
    },
    {
      "cell_type": "code",
      "source": [
        "openai.api_key= \"\""
      ],
      "metadata": {
        "id": "iG4A8t4fwL6L"
      },
      "execution_count": null,
      "outputs": []
    },
    {
      "cell_type": "code",
      "source": [
        "response = openai.ChatCompletion.create(\n",
        "    model=\"gpt-3.5-turbo\",\n",
        "    messages=[\n",
        "        {\"role\": \"system\", \"content\": \"Eres un maestro cervecero que provee condiciones operativas sobre el proceso de producción de cerveza\"},\n",
        "        {\"role\": \"user\", \"content\": \"¿Cuál es la temperatura de fermentación de la cerveza pale ale?\"},\n",
        "        {\"role\": \"assistant\", \"content\": \"La temperatura de fermentación de la cerveza pale ale es entre 14 y 22 grados centígrados.\"},\n",
        "        {\"role\": \"user\", \"content\": \"¿Cuál es el tiempo de fermentación de la cerveza pale ale?\"}\n",
        "    ],\n",
        "    max_tokens=100,\n",
        "    temperature=0.5,\n",
        "    top_p=0.5,\n",
        "    frequency_penalty=0.4,\n",
        "    presence_penalty=0.3,\n",
        "    n=1\n",
        ")\n",
        "\n",
        "#print(response.choices[0][\"message\"][\"content\"])\n",
        "print(response)"
      ],
      "metadata": {
        "colab": {
          "base_uri": "https://localhost:8080/"
        },
        "id": "kBczGro1wcbr",
        "outputId": "4d27c196-33d0-475d-d9bd-cbc23cdd2285"
      },
      "execution_count": null,
      "outputs": [
        {
          "output_type": "stream",
          "name": "stdout",
          "text": [
            "{\n",
            "  \"id\": \"chatcmpl-AQJf7hCnqLBWFJ2FrgxafXHiXdgqk\",\n",
            "  \"object\": \"chat.completion\",\n",
            "  \"created\": 1730835473,\n",
            "  \"model\": \"gpt-3.5-turbo-0125\",\n",
            "  \"choices\": [\n",
            "    {\n",
            "      \"index\": 0,\n",
            "      \"message\": {\n",
            "        \"role\": \"assistant\",\n",
            "        \"content\": \"El tiempo de fermentaci\\u00f3n de la cerveza pale ale suele ser de aproximadamente 1 a 2 semanas, dependiendo de las condiciones espec\\u00edficas de la receta y del proceso de fermentaci\\u00f3n utilizado. Es importante monitorear el proceso de fermentaci\\u00f3n para asegurarse de que se alcance la atenuaci\\u00f3n deseada y los perfiles de sabor deseados antes de proceder con el embotellado o el barrilado.\",\n",
            "        \"refusal\": null\n",
            "      },\n",
            "      \"logprobs\": null,\n",
            "      \"finish_reason\": \"stop\"\n",
            "    },\n",
            "    {\n",
            "      \"index\": 1,\n",
            "      \"message\": {\n",
            "        \"role\": \"assistant\",\n",
            "        \"content\": \"El tiempo de fermentaci\\u00f3n de la cerveza pale ale suele ser de aproximadamente 1 a 2 semanas, dependiendo de las condiciones espec\\u00edficas de la receta y del proceso de fermentaci\\u00f3n utilizado. Es importante monitorear el proceso para asegurarse de que la fermentaci\\u00f3n se complete correctamente antes de proceder con el embotellado o el barrilado.\",\n",
            "        \"refusal\": null\n",
            "      },\n",
            "      \"logprobs\": null,\n",
            "      \"finish_reason\": \"stop\"\n",
            "    }\n",
            "  ],\n",
            "  \"usage\": {\n",
            "    \"prompt_tokens\": 102,\n",
            "    \"completion_tokens\": 174,\n",
            "    \"total_tokens\": 276,\n",
            "    \"prompt_tokens_details\": {\n",
            "      \"cached_tokens\": 0\n",
            "    },\n",
            "    \"completion_tokens_details\": {\n",
            "      \"reasoning_tokens\": 0,\n",
            "      \"accepted_prediction_tokens\": 0,\n",
            "      \"rejected_prediction_tokens\": 0\n",
            "    }\n",
            "  },\n",
            "  \"system_fingerprint\": null\n",
            "}\n"
          ]
        }
      ]
    },
    {
      "cell_type": "markdown",
      "source": [
        "##Tokenizator"
      ],
      "metadata": {
        "id": "rRMUg-UWmcMi"
      }
    },
    {
      "cell_type": "code",
      "source": [
        "!pip install tiktoken\n",
        "import tiktoken"
      ],
      "metadata": {
        "id": "0c0B_ZpGx2Ix",
        "colab": {
          "base_uri": "https://localhost:8080/"
        },
        "outputId": "5aca2132-2b63-4f0a-c190-bf4a714c80ed"
      },
      "execution_count": 1,
      "outputs": [
        {
          "output_type": "stream",
          "name": "stdout",
          "text": [
            "Collecting tiktoken\n",
            "  Downloading tiktoken-0.8.0-cp310-cp310-manylinux_2_17_x86_64.manylinux2014_x86_64.whl.metadata (6.6 kB)\n",
            "Requirement already satisfied: regex>=2022.1.18 in /usr/local/lib/python3.10/dist-packages (from tiktoken) (2024.9.11)\n",
            "Requirement already satisfied: requests>=2.26.0 in /usr/local/lib/python3.10/dist-packages (from tiktoken) (2.32.3)\n",
            "Requirement already satisfied: charset-normalizer<4,>=2 in /usr/local/lib/python3.10/dist-packages (from requests>=2.26.0->tiktoken) (3.4.0)\n",
            "Requirement already satisfied: idna<4,>=2.5 in /usr/local/lib/python3.10/dist-packages (from requests>=2.26.0->tiktoken) (3.10)\n",
            "Requirement already satisfied: urllib3<3,>=1.21.1 in /usr/local/lib/python3.10/dist-packages (from requests>=2.26.0->tiktoken) (2.2.3)\n",
            "Requirement already satisfied: certifi>=2017.4.17 in /usr/local/lib/python3.10/dist-packages (from requests>=2.26.0->tiktoken) (2024.8.30)\n",
            "Downloading tiktoken-0.8.0-cp310-cp310-manylinux_2_17_x86_64.manylinux2014_x86_64.whl (1.2 MB)\n",
            "\u001b[2K   \u001b[90m━━━━━━━━━━━━━━━━━━━━━━━━━━━━━━━━━━━━━━━━\u001b[0m \u001b[32m1.2/1.2 MB\u001b[0m \u001b[31m15.3 MB/s\u001b[0m eta \u001b[36m0:00:00\u001b[0m\n",
            "\u001b[?25hInstalling collected packages: tiktoken\n",
            "Successfully installed tiktoken-0.8.0\n"
          ]
        }
      ]
    },
    {
      "cell_type": "code",
      "source": [
        "model_name = \"gpt-3.5-turbo\"\n",
        "encoding = tiktoken.encoding_for_model(model_name)\n",
        "text= \"\"\"\n",
        "El Proyecto Kahirós se presentó en un evento que se desarrolló el 30 de octubre en el LATU. Se trata de una iniciativa integral que generará energía renovable para la producción de hidrógeno verde a partir de 2026. Este hidrógeno será consumido por camiones de carga pesada de la cadena logística-forestal uruguaya.\n",
        "\n",
        "Kahirós se instalará en Fray Bentos y sus impulsores explicaron que será la primera planta de hidrógeno verde que operará en Uruguay. Su inversor es el Grupo Santander y su cliente es Montes del Plata, empresa que utilizará el hidrógeno verde en sus camiones de carga pesada. Los socios de la iniciativa son Fidocar (movilidad sostenible), Fraylog (uno de los principales transportistas para Montes del Plata y otras empresas) y Ventus (especializada en el área de las energías renovables).\n",
        "\n",
        "El proyecto incluirá la instalación de 8000 paneles solares. Gracias a esta energía, se podrá producir el hidrógeno verde. Además, se construirá un electrolizador de 2 MW de potencia, con el que se separará el hidrógeno del oxígeno. La producción será de 36 kilos de hidrógeno por hora. La tercera parte del proyecto es una hidrolinera, que toma el hidrógeno y lo comprime, lo que permitirá cargar los camiones con tecnología innovadora y los más altos estándares de seguridad. La carga en los seis camiones de la flota —de última generación— será de 68 kilos de hidrógeno en menos de 30 minutos. La autonomía de esta flota es superior a los 700 km y se podrán transportar cargas de hasta 48 toneladas.\n",
        "\n",
        "En su primera etapa, Kahirós producirá 77 toneladas anuales de hidrógeno verde y consumirá 7,2 GW de energía anuales, usando 4200 litros de agua diarios que se devolverán al ambiente en forma de vapor. Las autoridades del proyecto compararon este consumo con el equivalente a menos de 10 hogares por día. El ahorro anual de emisiones de CO2 previsto es de 870 toneladas.\n",
        "\n",
        "En la actividad de lanzamiento expusieron la ministra de Industria, Energía y Minería, Elisa Facio; el country head del Grupo Santander, Gustavo Trelles; y el project manager de Kahirós, Andrés Ferrer. También participaron otras autoridades, entre ellas el canciller Omar Paganini, quien ocupaba la titularidad del Ministerio de Industria, Energía y Minería (MIEM) cuando el proyecto comenzó a gestarse.\n",
        "\n",
        "\"\"\""
      ],
      "metadata": {
        "id": "9QhaZX7_mwru"
      },
      "execution_count": 2,
      "outputs": []
    },
    {
      "cell_type": "code",
      "source": [
        "#Display the tokens and the total token count\n",
        "print(\"Tokens:\", tokens)\n",
        "print(\"Total number of tokens:\", len(tokens))\n",
        "\n",
        "# Decode the tokens back to text (optional)\n",
        "decoded_text = encoding.decode(tokens)\n",
        "print(\"Decoded text:\", decoded_text)"
      ],
      "metadata": {
        "colab": {
          "base_uri": "https://localhost:8080/"
        },
        "id": "RpDLeWSDnTe6",
        "outputId": "1574faec-338a-4073-83fb-f6db6f0c50bf"
      },
      "execution_count": 4,
      "outputs": [
        {
          "output_type": "stream",
          "name": "stdout",
          "text": [
            "Tokens: [198, 6719, 1322, 30846, 735, 52098, 29832, 513, 3118, 1832, 665, 653, 45542, 1744, 513, 64796, 1832, 658, 220, 966, 409, 18998, 64359, 665, 658, 54287, 52, 13, 1369, 64367, 409, 5203, 45123, 28952, 26154, 1744, 1803, 31841, 4602, 7583, 32652, 481, 3429, 1208, 92136, 409, 31894, 83137, 4469, 78, 74261, 264, 31632, 409, 220, 2366, 21, 13, 39776, 31894, 83137, 4469, 78, 33998, 4766, 5362, 4247, 6730, 11685, 409, 76136, 18541, 2649, 409, 1208, 56092, 1515, 80278, 12, 51755, 278, 4433, 30885, 12874, 382, 42, 52098, 29832, 513, 1798, 8093, 1995, 665, 2939, 352, 41614, 437, 379, 4582, 3242, 360, 708, 417, 56369, 13055, 1744, 33998, 1208, 44769, 82765, 409, 31894, 83137, 4469, 78, 74261, 1744, 2040, 31841, 665, 73390, 13, 17360, 65683, 269, 1560, 658, 76007, 23746, 8363, 379, 924, 27727, 1560, 9995, 288, 1624, 1856, 460, 11, 33864, 1744, 65080, 1995, 658, 31894, 83137, 4469, 78, 74261, 665, 4582, 6730, 11685, 409, 76136, 18541, 2649, 13, 9853, 15983, 437, 409, 1208, 45123, 28952, 4538, 435, 307, 511, 277, 320, 31061, 321, 5969, 274, 14339, 1260, 705, 2939, 352, 848, 320, 16711, 409, 2537, 82512, 7710, 27771, 3429, 9995, 288, 1624, 1856, 460, 379, 51966, 51404, 8, 379, 27505, 355, 320, 288, 3037, 52311, 665, 658, 55271, 409, 5252, 4602, 25318, 32652, 4893, 3677, 6719, 50951, 18916, 21581, 1995, 1208, 46698, 5840, 409, 220, 4728, 15, 38422, 645, 2092, 5518, 13, 2895, 43542, 264, 15491, 4602, 7583, 11, 513, 7661, 38468, 2558, 58132, 658, 31894, 83137, 4469, 78, 74261, 13, 88583, 11, 513, 19477, 21581, 1995, 653, 4135, 1098, 91689, 409, 220, 17, 45582, 409, 3419, 8968, 11, 390, 658, 1744, 513, 4941, 31841, 658, 31894, 83137, 4469, 78, 1624, 19488, 2483, 4469, 78, 13, 5034, 92136, 33998, 409, 220, 1927, 15395, 437, 409, 31894, 83137, 4469, 78, 4247, 35220, 13, 5034, 2024, 66, 2473, 20108, 1624, 50951, 1560, 5203, 31894, 1098, 258, 2473, 11, 1744, 311, 1764, 658, 31894, 83137, 4469, 78, 379, 781, 13550, 547, 11, 781, 1744, 11810, 84662, 83011, 2537, 6730, 11685, 390, 41934, 54433, 9721, 30913, 379, 2537, 11158, 4902, 437, 15833, 303, 5518, 409, 64404, 13, 5034, 76136, 665, 2537, 87512, 6730, 11685, 409, 1208, 1344, 6217, 2001, 451, 72128, 1803, 5840, 2345, 33998, 409, 220, 2614, 15395, 437, 409, 31894, 83137, 4469, 78, 665, 32895, 409, 220, 966, 52762, 13, 5034, 95103, 7583, 409, 15491, 1344, 6217, 1560, 16757, 264, 2537, 220, 7007, 13437, 379, 513, 43015, 11644, 7710, 277, 62762, 300, 409, 29626, 220, 2166, 8941, 301, 11354, 382, 1737, 924, 44769, 1880, 18826, 11, 735, 52098, 29832, 2558, 58132, 1995, 220, 2813, 8941, 301, 11354, 459, 41852, 409, 31894, 83137, 4469, 78, 74261, 379, 4766, 84662, 220, 22, 11, 17, 42353, 409, 4602, 7583, 459, 41852, 11, 58241, 220, 12819, 15, 13318, 3714, 409, 56562, 1891, 10308, 1744, 513, 3567, 8080, 11644, 453, 67513, 665, 22544, 409, 38752, 13, 16132, 27865, 13910, 1624, 50951, 7809, 13055, 10566, 80990, 390, 658, 44554, 6960, 264, 32895, 409, 220, 605, 47025, 5518, 4247, 35963, 13, 4072, 264, 20100, 299, 459, 940, 409, 991, 1854, 288, 409, 7432, 17, 8031, 26407, 1560, 409, 220, 22440, 8941, 301, 11354, 382, 1737, 1208, 69840, 409, 84246, 23666, 1367, 355, 40608, 1208, 49904, 969, 409, 17653, 4298, 11, 75101, 7583, 379, 91012, 7583, 11, 4072, 10994, 17375, 822, 26, 658, 3224, 2010, 1624, 76007, 23746, 8363, 11, 49720, 28316, 350, 3833, 645, 26, 379, 658, 2447, 6783, 409, 735, 52098, 29832, 11, 78978, 5512, 29042, 261, 13, 91230, 5293, 13055, 51966, 27865, 13910, 11, 9465, 98760, 658, 63409, 15610, 54658, 393, 18851, 6729, 11, 44989, 75766, 12273, 1208, 81205, 5969, 1624, 9675, 822, 409, 17653, 4298, 11, 75101, 7583, 379, 91012, 7583, 320, 9972, 2783, 8, 27443, 658, 50951, 75209, 1832, 264, 13033, 2648, 382]\n",
            "Total number of tokens: 629\n",
            "Decoded text: \n",
            "El Proyecto Kahirós se presentó en un evento que se desarrolló el 30 de octubre en el LATU. Se trata de una iniciativa integral que generará energía renovable para la producción de hidrógeno verde a partir de 2026. Este hidrógeno será consumido por camiones de carga pesada de la cadena logística-forestal uruguaya.\n",
            "\n",
            "Kahirós se instalará en Fray Bentos y sus impulsores explicaron que será la primera planta de hidrógeno verde que operará en Uruguay. Su inversor es el Grupo Santander y su cliente es Montes del Plata, empresa que utilizará el hidrógeno verde en sus camiones de carga pesada. Los socios de la iniciativa son Fidocar (movilidad sostenible), Fraylog (uno de los principales transportistas para Montes del Plata y otras empresas) y Ventus (especializada en el área de las energías renovables).\n",
            "\n",
            "El proyecto incluirá la instalación de 8000 paneles solares. Gracias a esta energía, se podrá producir el hidrógeno verde. Además, se construirá un electrolizador de 2 MW de potencia, con el que se separará el hidrógeno del oxígeno. La producción será de 36 kilos de hidrógeno por hora. La tercera parte del proyecto es una hidrolinera, que toma el hidrógeno y lo comprime, lo que permitirá cargar los camiones con tecnología innovadora y los más altos estándares de seguridad. La carga en los seis camiones de la flota —de última generación— será de 68 kilos de hidrógeno en menos de 30 minutos. La autonomía de esta flota es superior a los 700 km y se podrán transportar cargas de hasta 48 toneladas.\n",
            "\n",
            "En su primera etapa, Kahirós producirá 77 toneladas anuales de hidrógeno verde y consumirá 7,2 GW de energía anuales, usando 4200 litros de agua diarios que se devolverán al ambiente en forma de vapor. Las autoridades del proyecto compararon este consumo con el equivalente a menos de 10 hogares por día. El ahorro anual de emisiones de CO2 previsto es de 870 toneladas.\n",
            "\n",
            "En la actividad de lanzamiento expusieron la ministra de Industria, Energía y Minería, Elisa Facio; el country head del Grupo Santander, Gustavo Trelles; y el project manager de Kahirós, Andrés Ferrer. También participaron otras autoridades, entre ellas el canciller Omar Paganini, quien ocupaba la titularidad del Ministerio de Industria, Energía y Minería (MIEM) cuando el proyecto comenzó a gestarse.\n",
            "\n",
            "\n"
          ]
        }
      ]
    },
    {
      "cell_type": "code",
      "source": [
        "def num_tokens_from_messages(messages, model=\"gpt-4o-mini-2024-07-18\"):\n",
        "    \"\"\"Return the number of tokens used by a list of messages.\"\"\"\n",
        "    try:\n",
        "        encoding = tiktoken.encoding_for_model(model)\n",
        "    except KeyError:\n",
        "        print(\"Warning: model not found. Using o200k_base encoding.\")\n",
        "        encoding = tiktoken.get_encoding(\"o200k_base\")\n",
        "    if model in {\n",
        "        \"gpt-3.5-turbo-0125\",\n",
        "        \"gpt-4-0314\",\n",
        "        \"gpt-4-32k-0314\",\n",
        "        \"gpt-4-0613\",\n",
        "        \"gpt-4-32k-0613\",\n",
        "        \"gpt-4o-mini-2024-07-18\",\n",
        "        \"gpt-4o-2024-08-06\"\n",
        "        }:\n",
        "        tokens_per_message = 3\n",
        "        tokens_per_name = 1\n",
        "    elif \"gpt-3.5-turbo\" in model:\n",
        "        print(\"Warning: gpt-3.5-turbo may update over time. Returning num tokens assuming gpt-3.5-turbo-0125.\")\n",
        "        return num_tokens_from_messages(messages, model=\"gpt-3.5-turbo-0125\")\n",
        "    elif \"gpt-4o-mini\" in model:\n",
        "        print(\"Warning: gpt-4o-mini may update over time. Returning num tokens assuming gpt-4o-mini-2024-07-18.\")\n",
        "        return num_tokens_from_messages(messages, model=\"gpt-4o-mini-2024-07-18\")\n",
        "    elif \"gpt-4o\" in model:\n",
        "        print(\"Warning: gpt-4o and gpt-4o-mini may update over time. Returning num tokens assuming gpt-4o-2024-08-06.\")\n",
        "        return num_tokens_from_messages(messages, model=\"gpt-4o-2024-08-06\")\n",
        "    elif \"gpt-4\" in model:\n",
        "        print(\"Warning: gpt-4 may update over time. Returning num tokens assuming gpt-4-0613.\")\n",
        "        return num_tokens_from_messages(messages, model=\"gpt-4-0613\")\n",
        "    else:\n",
        "        raise NotImplementedError(\n",
        "            f\"\"\"num_tokens_from_messages() is not implemented for model {model}.\"\"\"\n",
        "        )\n",
        "    num_tokens = 0\n",
        "    for message in messages:\n",
        "        num_tokens += tokens_per_message\n",
        "        for key, value in message.items():\n",
        "            num_tokens += len(encoding.encode(value))\n",
        "            if key == \"name\":\n",
        "                num_tokens += tokens_per_name\n",
        "    num_tokens += 3  # every reply is primed with <|start|>assistant<|message|>\n",
        "    return num_tokens"
      ],
      "metadata": {
        "id": "94-0buDUnZJC"
      },
      "execution_count": 5,
      "outputs": []
    },
    {
      "cell_type": "code",
      "source": [
        "example_messages = [\n",
        "    {\n",
        "        \"role\": \"system\",\n",
        "        \"content\": \"Eres un experto maestro cervecero con amplios conocimientos en técnicas de producción, fermentación, estilos de cerveza y control de calidad. Responde a todas las preguntas del usuario de manera clara y técnica.\"\n",
        "    },\n",
        "    {\n",
        "        \"role\": \"user\",\n",
        "        \"content\": \"¿Cuáles son los ingredientes básicos para elaborar una cerveza artesanal?\"\n",
        "    },\n",
        "    {\n",
        "        \"role\": \"assistant\",\n",
        "        \"content\": \"\"\n",
        "    },\n",
        "    {\n",
        "        \"role\": \"user\",\n",
        "        \"content\": \"¿Qué factores afectan el proceso de fermentación?\"\n",
        "    },\n",
        "    {\n",
        "        \"role\": \"assistant\",\n",
        "        \"content\": \"\"\n",
        "    }\n",
        "]\n",
        "\n"
      ],
      "metadata": {
        "id": "neyKdT89ozDt"
      },
      "execution_count": 8,
      "outputs": []
    },
    {
      "cell_type": "code",
      "source": [
        "num_tokens_from_messages(example_messages)"
      ],
      "metadata": {
        "colab": {
          "base_uri": "https://localhost:8080/"
        },
        "id": "cVYTy-UjpDi0",
        "outputId": "ece61822-e748-4f0f-807b-ec097ec8fa68"
      },
      "execution_count": 9,
      "outputs": [
        {
          "output_type": "execute_result",
          "data": {
            "text/plain": [
              "86"
            ]
          },
          "metadata": {},
          "execution_count": 9
        }
      ]
    },
    {
      "cell_type": "code",
      "source": [],
      "metadata": {
        "id": "yKOo8LZkpFFA"
      },
      "execution_count": null,
      "outputs": []
    }
  ]
}